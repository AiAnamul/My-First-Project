{
 "cells": [
  {
   "cell_type": "code",
   "execution_count": 4,
   "id": "1d694c12",
   "metadata": {
    "scrolled": true
   },
   "outputs": [
    {
     "name": "stdout",
     "output_type": "stream",
     "text": [
      "\n",
      "    enter 1 for +\n",
      "    enter 2 for -\n",
      "    enter 3 for *\n",
      "    enter 4 for / \n",
      "    enter 5 for stope calcoloter\n",
      "    5\n"
     ]
    }
   ],
   "source": [
    "def sum_(num1,num2):\n",
    "    return num1+num2\n",
    "def min_(num1,num2) :\n",
    "    return num1-num2\n",
    "def into_(num1,num2):\n",
    "    return num1*num2 \n",
    "def div_(num1,num2):\n",
    "    return num1/num2\n",
    "\n",
    "while True :\n",
    "    \n",
    "    m = int(input(\"\"\"\n",
    "    enter 1 for +\n",
    "    enter 2 for -\n",
    "    enter 3 for *\n",
    "    enter 4 for / \n",
    "    enter 5 for stope calcoloter\n",
    "    \"\"\"))\n",
    "    if m == 5:\n",
    "        break\n",
    "        \n",
    "    elif m == 1 or  m == 2 or m == 3 or  m == 4 :\n",
    "        \n",
    "        num1=float(input(\"please inter your 1st nomber: \"))\n",
    "        num2=float(input(\"please inter your 2nd nomber: \"))\n",
    "        \n",
    "        if m == 1:                \n",
    "            print (sum_(num1,num2))\n",
    "        elif m == 2:\n",
    "            print(min_(num1,num2))\n",
    "        elif m == 3:\n",
    "            print(into_(num1,num2)) \n",
    "        elif m == 4:\n",
    "            print(div_(num1,num2))\n",
    "                                                                                                     \n",
    "    else:\n",
    "        print(\"Enter A Valid Input\")"
   ]
  },
  {
   "cell_type": "code",
   "execution_count": null,
   "id": "d7a1e4de",
   "metadata": {},
   "outputs": [],
   "source": []
  }
 ],
 "metadata": {
  "kernelspec": {
   "display_name": "Python 3 (ipykernel)",
   "language": "python",
   "name": "python3"
  },
  "language_info": {
   "codemirror_mode": {
    "name": "ipython",
    "version": 3
   },
   "file_extension": ".py",
   "mimetype": "text/x-python",
   "name": "python",
   "nbconvert_exporter": "python",
   "pygments_lexer": "ipython3",
   "version": "3.11.5"
  }
 },
 "nbformat": 4,
 "nbformat_minor": 5
}
