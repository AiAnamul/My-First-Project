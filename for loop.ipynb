{
 "cells": [
  {
   "cell_type": "markdown",
   "id": "cbbee999",
   "metadata": {},
   "source": [
    "## For Loop"
   ]
  },
  {
   "cell_type": "code",
   "execution_count": 14,
   "id": "e1cace73",
   "metadata": {},
   "outputs": [],
   "source": [
    "new_list = [\"ridoy\",[\"ridoy\", 1,5,815,5,541,55,145,[52,62,52,65,254,2,5,2,5,[5,6,8,5,2,1,0,4550,520,(\"ridoy\", 10 , 50, \"anamul\")],\"bappy\"],10],10]"
   ]
  },
  {
   "cell_type": "code",
   "execution_count": 20,
   "id": "f425a281",
   "metadata": {},
   "outputs": [
    {
     "name": "stdout",
     "output_type": "stream",
     "text": [
      "4550\n"
     ]
    }
   ],
   "source": [
    "int_list = []\n",
    "for i in new_list:\n",
    "    if type(i) == int:\n",
    "        int_list.append(i)\n",
    "        \n",
    "    elif type(i) == list:\n",
    "        for j in i:\n",
    "            if type(j) == int:\n",
    "                int_list.append(j)\n",
    "                \n",
    "                \n",
    "            elif type(j) == list:\n",
    "                for k in j:\n",
    "                    if type(k) == int:\n",
    "                        int_list.append(k)\n",
    "                        \n",
    "                    elif type(k) == list:\n",
    "                        for t in k:\n",
    "                            if type(t) == int:\n",
    "                                int_list.append(t) \n",
    "                               \n",
    "                            elif type(t) == tuple:\n",
    "                                for r in t:\n",
    "                                    if type(r) == int:\n",
    "                                        int_list.append(r)\n",
    "Max_num =int_list[0]\n",
    "for i in a:\n",
    "    if (i > Max_num):\n",
    "        Max_num = i\n",
    "        \n",
    "print(Max_num) \n",
    "   "
   ]
  },
  {
   "cell_type": "code",
   "execution_count": 22,
   "id": "44697950",
   "metadata": {},
   "outputs": [
    {
     "name": "stdout",
     "output_type": "stream",
     "text": [
      "4550\n"
     ]
    }
   ],
   "source": [
    "m_num = 0\n",
    "for i in int_list:\n",
    "    if i > m_num:\n",
    "        m_num = i\n",
    "print(m_num)        "
   ]
  },
  {
   "cell_type": "code",
   "execution_count": 25,
   "id": "5b08ac18",
   "metadata": {},
   "outputs": [
    {
     "data": {
      "text/plain": [
       "4550"
      ]
     },
     "execution_count": 25,
     "metadata": {},
     "output_type": "execute_result"
    }
   ],
   "source": [
    "int_list.sort()\n",
    "int_list [-1]"
   ]
  },
  {
   "cell_type": "code",
   "execution_count": null,
   "id": "06f4c1af",
   "metadata": {},
   "outputs": [],
   "source": []
  }
 ],
 "metadata": {
  "kernelspec": {
   "display_name": "Python 3 (ipykernel)",
   "language": "python",
   "name": "python3"
  },
  "language_info": {
   "codemirror_mode": {
    "name": "ipython",
    "version": 3
   },
   "file_extension": ".py",
   "mimetype": "text/x-python",
   "name": "python",
   "nbconvert_exporter": "python",
   "pygments_lexer": "ipython3",
   "version": "3.11.5"
  }
 },
 "nbformat": 4,
 "nbformat_minor": 5
}
