{
 "cells": [
  {
   "cell_type": "markdown",
   "id": "ec4dca0b",
   "metadata": {},
   "source": [
    "## if else"
   ]
  },
  {
   "cell_type": "code",
   "execution_count": null,
   "id": "bf33a372",
   "metadata": {},
   "outputs": [],
   "source": [
    "name = input(\"enter your name: \")\n",
    "\n",
    "if name == \"Anamul\":\n",
    "    print(\"please Entry\")\n",
    "else:   \n",
    "    print(\"No Entry\")"
   ]
  },
  {
   "cell_type": "code",
   "execution_count": null,
   "id": "b3b27699",
   "metadata": {},
   "outputs": [],
   "source": [
    "number = int(input (\"enter your number: \"))\n",
    "my = 80\n",
    "if number == my:\n",
    "    print(\"Congralation You WIN\")\n",
    "    print(\"Take My Money\")\n",
    "    \n",
    "else :\n",
    "     print(\"Congralation You Lose😜\")\n",
    "     print(\"Give 2x of my money\")  "
   ]
  },
  {
   "cell_type": "code",
   "execution_count": null,
   "id": "62013166",
   "metadata": {},
   "outputs": [],
   "source": []
  }
 ],
 "metadata": {
  "kernelspec": {
   "display_name": "Python 3 (ipykernel)",
   "language": "python",
   "name": "python3"
  },
  "language_info": {
   "codemirror_mode": {
    "name": "ipython",
    "version": 3
   },
   "file_extension": ".py",
   "mimetype": "text/x-python",
   "name": "python",
   "nbconvert_exporter": "python",
   "pygments_lexer": "ipython3",
   "version": "3.11.5"
  }
 },
 "nbformat": 4,
 "nbformat_minor": 5
}
