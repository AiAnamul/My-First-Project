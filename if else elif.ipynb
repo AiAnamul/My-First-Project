{
 "cells": [
  {
   "cell_type": "markdown",
   "id": "cd13f814",
   "metadata": {},
   "source": [
    "## if else elif"
   ]
  },
  {
   "cell_type": "code",
   "execution_count": 1,
   "id": "f0324cc5",
   "metadata": {},
   "outputs": [
    {
     "name": "stdout",
     "output_type": "stream",
     "text": [
      "please inter your mark:68\n",
      "you are gatting A-\n"
     ]
    }
   ],
   "source": [
    "mark = int(input(\"please inter your mark:\" ))\n",
    "\n",
    "if mark >= 80:\n",
    "    print(\"you are gatting A+\")\n",
    "    \n",
    "elif mark >= 70:  \n",
    "    print(\"you are gatting A\")\n",
    "elif mark >= 60:\n",
    "    print(\"you are gatting A-\")\n",
    "    \n",
    "elif mark >= 50:\n",
    "     print(\"you are gatting B\")\n",
    "        \n",
    "elif mark >=33:\n",
    "     print(\"you are gatting C\") \n",
    "else:\n",
    "     print(\"you are gatting F\")\n",
    "     print(\"Wish you Good Luck Next Time\")"
   ]
  },
  {
   "cell_type": "code",
   "execution_count": null,
   "id": "cf44c866",
   "metadata": {},
   "outputs": [],
   "source": []
  }
 ],
 "metadata": {
  "kernelspec": {
   "display_name": "Python 3 (ipykernel)",
   "language": "python",
   "name": "python3"
  },
  "language_info": {
   "codemirror_mode": {
    "name": "ipython",
    "version": 3
   },
   "file_extension": ".py",
   "mimetype": "text/x-python",
   "name": "python",
   "nbconvert_exporter": "python",
   "pygments_lexer": "ipython3",
   "version": "3.11.5"
  }
 },
 "nbformat": 4,
 "nbformat_minor": 5
}
