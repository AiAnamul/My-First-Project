{
 "cells": [
  {
   "cell_type": "code",
   "execution_count": 1,
   "id": "44c4c0ab",
   "metadata": {},
   "outputs": [
    {
     "name": "stdout",
     "output_type": "stream",
     "text": [
      "enter 1st number: 100\n",
      "enter 2nd number: 20\n",
      "your 1st number is100.0,your 2nd number is 20.0 ,\n",
      " Ans(+) = 120.0 \n",
      " Ans(-) = 80.0\n",
      " Ans(*) = 2000.0\n",
      " Ans(/) = 5.0 \n"
     ]
    }
   ],
   "source": [
    "a = float(input(\"enter 1st number: \"))\n",
    "b = float(input(\"enter 2nd number: \"))\n",
    "print(f\"your 1st number is{a},your 2nd number is {b} ,\\n Ans(+) = {a+b} \\n Ans(-) = {a-b}\\n Ans(*) = {a*b}\\n Ans(/) = {a/b} \")"
   ]
  },
  {
   "cell_type": "code",
   "execution_count": null,
   "id": "68caa1a5",
   "metadata": {},
   "outputs": [],
   "source": []
  }
 ],
 "metadata": {
  "kernelspec": {
   "display_name": "Python 3 (ipykernel)",
   "language": "python",
   "name": "python3"
  },
  "language_info": {
   "codemirror_mode": {
    "name": "ipython",
    "version": 3
   },
   "file_extension": ".py",
   "mimetype": "text/x-python",
   "name": "python",
   "nbconvert_exporter": "python",
   "pygments_lexer": "ipython3",
   "version": "3.11.5"
  }
 },
 "nbformat": 4,
 "nbformat_minor": 5
}
