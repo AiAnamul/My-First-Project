{
 "cells": [
  {
   "cell_type": "code",
   "execution_count": 6,
   "id": "d9be0016",
   "metadata": {},
   "outputs": [
    {
     "name": "stdout",
     "output_type": "stream",
     "text": [
      "please inter your name : Ratul\n",
      "Inter Your biggest number : 200\n",
      "Inter 2nd biggest number : 20\n",
      "Inter smallest number : 10\n",
      "Hey Ratul \n",
      " Your 1st number is: 200.0 \n",
      " Your 2nd number is: 20.0 ,\n",
      " Your 3rd number is: 10.0 \n",
      " Sum = 230.0 \n",
      " deduction = 170.0 \n",
      " multyply = 40000.0 \n",
      " divison = 1.0\n"
     ]
    }
   ],
   "source": [
    "name = input('please inter your name : ')\n",
    "num1 = float( input('Inter Your biggest number : '))\n",
    "num2 = float(input('Inter 2nd biggest number : '))\n",
    "num3 = float( input('Inter smallest number : '))\n",
    "result1 = num1+num2+num3\n",
    "result2 = num1-num2-num3\n",
    "result3 = num1*num2*num3\n",
    "result4 = num1/num2/num3 \n",
    "print (f'Hey {name} \\n Your 1st number is: {num1} \\n Your 2nd number is: {num2} ,\\n Your 3rd number is: {num3} \\n Sum = {result1} \\n deduction = {result2} \\n multyply = {result3} \\n divison = {result4}')"
   ]
  },
  {
   "cell_type": "code",
   "execution_count": null,
   "id": "2fd1734c",
   "metadata": {},
   "outputs": [],
   "source": []
  }
 ],
 "metadata": {
  "kernelspec": {
   "display_name": "Python 3 (ipykernel)",
   "language": "python",
   "name": "python3"
  },
  "language_info": {
   "codemirror_mode": {
    "name": "ipython",
    "version": 3
   },
   "file_extension": ".py",
   "mimetype": "text/x-python",
   "name": "python",
   "nbconvert_exporter": "python",
   "pygments_lexer": "ipython3",
   "version": "3.11.5"
  }
 },
 "nbformat": 4,
 "nbformat_minor": 5
}
