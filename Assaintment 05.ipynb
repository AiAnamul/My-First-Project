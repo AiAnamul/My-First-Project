{
 "cells": [
  {
   "cell_type": "markdown",
   "id": "476417bc",
   "metadata": {},
   "source": [
    "## Nested if else elif"
   ]
  },
  {
   "cell_type": "code",
   "execution_count": 10,
   "id": "e2aeac8b",
   "metadata": {},
   "outputs": [
    {
     "name": "stdout",
     "output_type": "stream",
     "text": [
      "please Enter Your Math Mark: 80\n",
      "please Enter Your English Mark: 80\n",
      "please Enter Your Bangla Mark: 80\n",
      "You are selected\n"
     ]
    }
   ],
   "source": [
    "M_Mark = int(input(\"please Enter Your Math Mark: \"))\n",
    "E_Mark = int(input(\"please Enter Your English Mark: \"))\n",
    "B_Mark = int(input(\"please Enter Your Bangla Mark: \"))\n",
    "\n",
    "if M_Mark >= 80:\n",
    "    if E_Mark >=80:\n",
    "         if B_Mark >=80:\n",
    "                print(\"You are selected\")      \n",
    "         else:\n",
    "            print(\"You are pending\")   \n",
    "    else:\n",
    "        print(\"You are pending\")\n",
    "else:\n",
    "    print(\"You are Rejeckted\")"
   ]
  },
  {
   "cell_type": "code",
   "execution_count": null,
   "id": "21e359f0",
   "metadata": {},
   "outputs": [],
   "source": []
  }
 ],
 "metadata": {
  "kernelspec": {
   "display_name": "Python 3 (ipykernel)",
   "language": "python",
   "name": "python3"
  },
  "language_info": {
   "codemirror_mode": {
    "name": "ipython",
    "version": 3
   },
   "file_extension": ".py",
   "mimetype": "text/x-python",
   "name": "python",
   "nbconvert_exporter": "python",
   "pygments_lexer": "ipython3",
   "version": "3.11.5"
  }
 },
 "nbformat": 4,
 "nbformat_minor": 5
}
