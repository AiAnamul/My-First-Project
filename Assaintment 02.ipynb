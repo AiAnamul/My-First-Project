{
 "cells": [
  {
   "cell_type": "code",
   "execution_count": 1,
   "id": "fbf6f922",
   "metadata": {},
   "outputs": [
    {
     "name": "stdout",
     "output_type": "stream",
     "text": [
      "please inter your first name: Md Anamul\n",
      "please input your last name: Islam\n",
      "your full name is: Md AnamulIslam\n",
      " your revarse name is: malsIlumanA dM\n"
     ]
    }
   ],
   "source": [
    "First_name =input('please inter your first name: ')\n",
    "Last_name =input('please input your last name: ')\n",
    "Full_name =(First_name+Last_name)\n",
    "print(f'your full name is: {Full_name}\\n your revarse name is: {Full_name[-1: :-1]}')"
   ]
  },
  {
   "cell_type": "code",
   "execution_count": null,
   "id": "9cf66d78",
   "metadata": {},
   "outputs": [],
   "source": []
  }
 ],
 "metadata": {
  "kernelspec": {
   "display_name": "Python 3 (ipykernel)",
   "language": "python",
   "name": "python3"
  },
  "language_info": {
   "codemirror_mode": {
    "name": "ipython",
    "version": 3
   },
   "file_extension": ".py",
   "mimetype": "text/x-python",
   "name": "python",
   "nbconvert_exporter": "python",
   "pygments_lexer": "ipython3",
   "version": "3.11.5"
  }
 },
 "nbformat": 4,
 "nbformat_minor": 5
}
  
