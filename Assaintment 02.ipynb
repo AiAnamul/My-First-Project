{
 "cells": [
  {
   "cell_type": "code",
   "execution_count": 4,
   "id": "fbf6f922",
   "metadata": {},
   "outputs": [
    {
     "name": "stdout",
     "output_type": "stream",
     "text": [
      "please inter your first name: Md Anamul\n",
      "please input your last name: islam\n",
      "your full name is: ('Md Anamul', 'islam')\n",
      " your revarse name is: malsilumanA dM\n"
     ]
    }
   ],
   "source": [
    "a =input('please inter your first name: ')\n",
    "b =input('please input your last name: ')\n",
    "c=(a+b)\n",
    "print(f'your full name is: {a,b}\\n your revarse name is: {c[-1: :-1]}')"
   ]
  },
  {
   "cell_type": "code",
   "execution_count": null,
   "id": "9cf66d78",
   "metadata": {},
   "outputs": [],
   "source": []
  }
 ],
 "metadata": {
  "kernelspec": {
   "display_name": "Python 3 (ipykernel)",
   "language": "python",
   "name": "python3"
  },
  "language_info": {
   "codemirror_mode": {
    "name": "ipython",
    "version": 3
   },
   "file_extension": ".py",
   "mimetype": "text/x-python",
   "name": "python",
   "nbconvert_exporter": "python",
   "pygments_lexer": "ipython3",
   "version": "3.11.5"
  }
 },
 "nbformat": 4,
 "nbformat_minor": 5
}
