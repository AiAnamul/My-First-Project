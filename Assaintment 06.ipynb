{
 "cells": [
  {
   "cell_type": "code",
   "execution_count": 19,
   "id": "5e629341",
   "metadata": {},
   "outputs": [
    {
     "name": "stdout",
     "output_type": "stream",
     "text": [
      "your Small_num is: [1, 2, 3, 4, 5, 6, 7, 21, 33, 32, 2, 4]\n",
      "your Big_num is: [1001, 110]\n",
      "your Other_num is: ['bappy', 'hossain', 'inception', 'Dabasish', 'Python', 'ridoy']\n"
     ]
    }
   ],
   "source": [
    "my_list = [1, 2,\"bappy\", 3,1001, 4, \"hossain\", \"inception\", 5, 6, 7, 100,\"Dabasish\", \"Python\", 110, 21, 33, 32, 2, 4, \"ridoy\"]\n",
    "\n",
    "small_num = []\n",
    "big_num = []\n",
    "other_data = []\n",
    "\n",
    "for i in my_list:\n",
    "    if type(i)== int:\n",
    "        if i < 100:\n",
    "            small_num.append(i)\n",
    "            \n",
    "    if type(i)== int:\n",
    "        if i > 100:\n",
    "            big_num.append(i)\n",
    "            \n",
    "    else:\n",
    "        other_data.append(i)\n",
    "        \n",
    "print(f\"your Small_num is: {small_num}\")\n",
    "print(f\"your Big_num is: {big_num}\")\n",
    "print(f\"your Other_num is: {other_data}\")"
   ]
  },
  {
   "cell_type": "code",
   "execution_count": null,
   "id": "3ca4bf0f",
   "metadata": {},
   "outputs": [],
   "source": []
  }
 ],
 "metadata": {
  "kernelspec": {
   "display_name": "Python 3 (ipykernel)",
   "language": "python",
   "name": "python3"
  },
  "language_info": {
   "codemirror_mode": {
    "name": "ipython",
    "version": 3
   },
   "file_extension": ".py",
   "mimetype": "text/x-python",
   "name": "python",
   "nbconvert_exporter": "python",
   "pygments_lexer": "ipython3",
   "version": "3.11.5"
  }
 },
 "nbformat": 4,
 "nbformat_minor": 5
}
