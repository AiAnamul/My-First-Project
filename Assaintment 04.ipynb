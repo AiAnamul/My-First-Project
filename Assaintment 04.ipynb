{
 "cells": [
  {
   "cell_type": "markdown",
   "id": "1fd54cf0",
   "metadata": {},
   "source": [
    "# Assintment04"
   ]
  },
  {
   "cell_type": "code",
   "execution_count": 1,
   "id": "cad8f97a",
   "metadata": {
    "scrolled": true
   },
   "outputs": [
    {
     "name": "stdout",
     "output_type": "stream",
     "text": [
      "please inter your name : Ananul\n",
      "please inter which class you read : 10\n",
      "please inter your roll nomber: 731463\n",
      "please inter your regestration nomber: 876434568797\n",
      "please inter your ssc passing year: 2022\n",
      "please Enter your 1st sudjet: Math\n",
      "please Enter your 2nd sudjet: Bangla\n",
      "please Enter your 3rd sudjet: English\n",
      "please Enter your 4th sudjet: Phycis\n",
      "please Enter your 5th sudjet: Science\n",
      "{'Name': 'Ananul', 'Class': '10', 'Roll': 731463, 'Regs': 876434568797, 'SSC': 2022, 'Sub': ('Math', 'Bangla', 'English', 'Phycis', 'Science')}\n"
     ]
    }
   ],
   "source": [
    "name = input('please inter your name : ')\n",
    "clas = input('please inter which class you read : ')\n",
    "roll = int(input ('please inter your roll nomber: '))\n",
    "reg = int(input('please inter your regestration nomber: '))\n",
    "ssc = int(input('please inter your ssc passing year: '))\n",
    "\n",
    "sub1 = input('please Enter your 1st sudjet: ')\n",
    "sub2 = input('please Enter your 2nd sudjet: ')\n",
    "sub3 = input('please Enter your 3rd sudjet: ')\n",
    "sub4 = input('please Enter your 4th sudjet: ')\n",
    "sub5 = input('please Enter your 5th sudjet: ')\n",
    "\n",
    "all_sub = (sub1,sub2,sub3,sub4,sub5)\n",
    "\n",
    "output_dect = {\"Name\" : name,\n",
    "               \"Class\" : clas,\n",
    "               \"Roll\" : roll,\n",
    "               \"Regs\" : reg,\n",
    "               \"SSC\" : ssc,\n",
    "               \"Sub\" : all_sub,}\n",
    "print(output_dect)"
   ]
  },
  {
   "cell_type": "code",
   "execution_count": null,
   "id": "6e2349ef",
   "metadata": {},
   "outputs": [],
   "source": []
  },
  {
   "cell_type": "code",
   "execution_count": null,
   "id": "046d4818",
   "metadata": {},
   "outputs": [],
   "source": []
  }
 ],
 "metadata": {
  "kernelspec": {
   "display_name": "Python 3 (ipykernel)",
   "language": "python",
   "name": "python3"
  },
  "language_info": {
   "codemirror_mode": {
    "name": "ipython",
    "version": 3
   },
   "file_extension": ".py",
   "mimetype": "text/x-python",
   "name": "python",
   "nbconvert_exporter": "python",
   "pygments_lexer": "ipython3",
   "version": "3.11.5"
  }
 },
 "nbformat": 4,
 "nbformat_minor": 5
}
